{
  "nbformat": 4,
  "nbformat_minor": 0,
  "metadata": {
    "colab": {
      "provenance": [],
      "gpuType": "T4"
    },
    "kernelspec": {
      "name": "python3",
      "display_name": "Python 3"
    },
    "language_info": {
      "name": "python"
    },
    "accelerator": "GPU"
  },
  "cells": [
    {
      "cell_type": "markdown",
      "source": [
        "# **Mounting Google Drive in Colab**"
      ],
      "metadata": {
        "id": "QPuWTR-fvkka"
      }
    },
    {
      "cell_type": "code",
      "source": [
        "from google.colab import drive\n",
        "drive.mount('/content/drive')"
      ],
      "metadata": {
        "colab": {
          "base_uri": "https://localhost:8080/"
        },
        "id": "HQf0MR2AJZYe",
        "outputId": "d6e328f5-8e09-4051-a4c6-ef49cc4699b8"
      },
      "execution_count": null,
      "outputs": [
        {
          "output_type": "stream",
          "name": "stdout",
          "text": [
            "Drive already mounted at /content/drive; to attempt to forcibly remount, call drive.mount(\"/content/drive\", force_remount=True).\n"
          ]
        }
      ]
    },
    {
      "cell_type": "markdown",
      "source": [
        "# **Installing Required Packages**"
      ],
      "metadata": {
        "id": "udlbiZkavzA9"
      }
    },
    {
      "cell_type": "code",
      "source": [
        "# Install necessary libraries\n",
        "!pip -q install transformers datasets torch accelerate peft\n",
        "!pip -q install google-api-python-client google-auth-httplib2 google-auth-oauthlib\n"
      ],
      "metadata": {
        "id": "8FcTBRcGMPbD"
      },
      "execution_count": null,
      "outputs": []
    },
    {
      "cell_type": "markdown",
      "source": [
        "# **Load Data from Google Docs and Prepare Dataset**"
      ],
      "metadata": {
        "id": "q7EiplFnv73z"
      }
    },
    {
      "cell_type": "code",
      "source": [
        "from google.colab import auth\n",
        "from googleapiclient.discovery import build\n",
        "import io\n",
        "\n",
        "auth.authenticate_user()\n",
        "\n",
        "# Set up the Drive v3 API\n",
        "drive_service = build('drive', 'v3')\n",
        "docs_service = build('docs', 'v1')\n",
        "\n",
        "# Specify the Google Docs file ID\n",
        "file_id = '1cppb7fgRoKmOxoiRYiGVcxav4ZGxbgpe_Kj-rme9YZk'\n",
        "\n",
        "# Get the Google Doc content as plain text\n",
        "def get_document_text(doc_id):\n",
        "    document = docs_service.documents().get(documentId=doc_id).execute()\n",
        "    doc_content = document.get('body').get('content')\n",
        "\n",
        "    def read_paragraph_element(element):\n",
        "        text_run = element.get('textRun')\n",
        "        if not text_run:\n",
        "            return ''\n",
        "        return text_run.get('content')\n",
        "\n",
        "    def read_structural_elements(elements):\n",
        "        text = ''\n",
        "        for value in elements:\n",
        "            if 'paragraph' in value:\n",
        "                elements = value.get('paragraph').get('elements')\n",
        "                for elem in elements:\n",
        "                    text += read_paragraph_element(elem)\n",
        "            elif 'table' in value:\n",
        "                table = value.get('table')\n",
        "                for row in table.get('tableRows'):\n",
        "                    cells = row.get('tableCells')\n",
        "                    for cell in cells:\n",
        "                        text += read_structural_elements(cell.get('content'))\n",
        "            elif 'tableOfContents' in value:\n",
        "                toc = value.get('tableOfContents')\n",
        "                text += read_structural_elements(toc.get('content'))\n",
        "        return text\n",
        "\n",
        "    return read_structural_elements(doc_content)\n",
        "\n",
        "# Get the document text\n",
        "doc_text = get_document_text(file_id)\n",
        "\n",
        "dataset_path = '/content/drive/MyDrive/Colab Notebooks/Dense Diffusion/Medium Prompt Generator Fine Tuning.txt'\n",
        "# Save the text to a file\n",
        "with open(dataset_path, 'w') as f:\n",
        "    f.write(doc_text)\n"
      ],
      "metadata": {
        "id": "iGgrvmo1MZsn"
      },
      "execution_count": null,
      "outputs": []
    },
    {
      "cell_type": "markdown",
      "source": [
        "# **Fine-Tuning GPT-2 with Custom Dataset**"
      ],
      "metadata": {
        "id": "DBdgocJDwUwr"
      }
    },
    {
      "cell_type": "code",
      "source": [
        "from transformers import GPT2LMHeadModel, GPT2Tokenizer, Trainer, TrainingArguments, DataCollatorForLanguageModeling\n",
        "from datasets import load_dataset\n",
        "\n",
        "# Load tokenizer and model\n",
        "tokenizer = GPT2Tokenizer.from_pretrained(\"gpt2-medium\")\n",
        "model = GPT2LMHeadModel.from_pretrained(\"gpt2-medium\")\n",
        "\n",
        "# Add a special padding token\n",
        "special_tokens_dict = {'pad_token': '[PAD]'}\n",
        "tokenizer.add_special_tokens(special_tokens_dict)\n",
        "model.resize_token_embeddings(len(tokenizer))\n",
        "\n",
        "# Load the text data\n",
        "def load_text_data(file_path, tokenizer, block_size=128):\n",
        "    dataset = load_dataset('text', data_files=file_path)['train']\n",
        "    def tokenize_function(examples):\n",
        "        return tokenizer(examples['text'], return_special_tokens_mask=True, truncation=True, padding='max_length', max_length=block_size)\n",
        "    tokenized_dataset = dataset.map(tokenize_function, batched=True, remove_columns=[\"text\"])\n",
        "    return tokenized_dataset\n",
        "\n",
        "# Prepare dataset\n",
        "\n",
        "train_dataset = load_text_data(dataset_path, tokenizer)\n",
        "\n",
        "data_collator = DataCollatorForLanguageModeling(\n",
        "    tokenizer=tokenizer,\n",
        "    mlm=False,\n",
        ")\n",
        "\n",
        "llm_folder_path = '/content/drive/MyDrive/Colab Notebooks/Dense Diffusion/medium_object_identifier_gpt'\n",
        "# Define training arguments\n",
        "training_args = TrainingArguments(\n",
        "    output_dir=llm_folder_path,\n",
        "    overwrite_output_dir=True,\n",
        "    num_train_epochs=10,  # Increase the number of epochs\n",
        "    per_device_train_batch_size=4,  # Increase batch size\n",
        "    save_steps=5_000,\n",
        "    save_total_limit=3,\n",
        "    logging_steps=200,\n",
        "    report_to='none'\n",
        ")\n",
        "\n",
        "# Create Trainer instance\n",
        "trainer = Trainer(\n",
        "    model=model,\n",
        "    args=training_args,\n",
        "    data_collator=data_collator,\n",
        "    train_dataset=train_dataset,\n",
        ")\n",
        "\n",
        "# Train the model\n",
        "trainer.train()\n",
        "\n",
        "# Save the model\n",
        "trainer.save_model(llm_folder_path)\n",
        "tokenizer.save_pretrained(llm_folder_path)\n"
      ],
      "metadata": {
        "id": "KaJehGOKTfTA"
      },
      "execution_count": null,
      "outputs": []
    },
    {
      "cell_type": "markdown",
      "source": [
        "# **Generating and Extracting Objects from Text with Fine-Tuned GPT-2**"
      ],
      "metadata": {
        "id": "AdUWgw-Pwo47"
      }
    },
    {
      "cell_type": "code",
      "source": [
        "import re\n",
        "import torch\n",
        "from transformers import GPT2LMHeadModel, GPT2Tokenizer\n",
        "\n",
        "# Load the fine-tuned model and tokenizer\n",
        "output_dir = llm_folder_path\n",
        "tokenizer = GPT2Tokenizer.from_pretrained(output_dir)\n",
        "tokenizer.add_special_tokens({'pad_token': '[PAD]'})\n",
        "\n",
        "# Initialize the model and resize token embeddings\n",
        "model = GPT2LMHeadModel.from_pretrained(output_dir)\n",
        "model.resize_token_embeddings(len(tokenizer))\n",
        "model = model.to('cuda' if torch.cuda.is_available() else 'cpu')\n",
        "\n",
        "# Test the fine-tuned model\n",
        "def generate_text(instruction, prompt, model, tokenizer, max_length=100):\n",
        "    formatted_prompt = f\"Instruction: {instruction}\\nPrompt: \\\"{prompt}\\\"\" ## objects too\n",
        "    input_ids = tokenizer(formatted_prompt, return_tensors='pt').input_ids.to('cuda' if torch.cuda.is_available() else 'cpu')\n",
        "    attention_mask = (input_ids != tokenizer.pad_token_id).long()\n",
        "    output = model.generate(\n",
        "        input_ids,\n",
        "        attention_mask=attention_mask,\n",
        "        max_length=max_length,\n",
        "        num_return_sequences=1,\n",
        "        pad_token_id=tokenizer.eos_token_id,\n",
        "        do_sample=True,\n",
        "        temperature=0.7,\n",
        "        top_p=0.9,\n",
        "    )\n",
        "    response = tokenizer.decode(output[0], skip_special_tokens=True)\n",
        "    return response\n",
        "\n",
        "# Improved extract_objects function\n",
        "def extract_objects(text):\n",
        "    # Remove extra spaces and special characters\n",
        "    # text = re.sub(r'\\s+', ' ', text)\n",
        "    # text = re.sub(r'[^\\w\\s,]', '', text)\n",
        "    # print(\"text =\",text)\n",
        "\n",
        "    # Define pattern to capture objects between the first and second occurrence of \"\\t Objects\"\n",
        "    pattern = r'Objects:\\s*\"([^\"]+)\"'\n",
        "\n",
        "    match = re.search(pattern, text)\n",
        "    if match:\n",
        "        # print(f\"Match found: {match.group(1)}\")\n",
        "        objects = match.group(1).split(',')\n",
        "        return sorted([obj.strip() for obj in objects if obj.strip()])\n",
        "    else:\n",
        "        # print(\"No match found.\")\n",
        "        return []\n",
        "\n",
        "# Test the fine-tuned model with multiple prompts\n",
        "instruction = \"Extract simple and drawable objects from the prompt. Avoid complex objects like backgrounds.\"\n",
        "prompts = [\n",
        "    \"A dog playing with a ball in the park.\",\n",
        "    \"A Lion reading a book on a beach.\",\n",
        "    \"A dog playing with a ball in the park.\",\n",
        "    \"A child building a sandcastle on the beach.\",\n",
        "    \"A chef cooking in a kitchen.\",\n",
        "    \"A man painting a fence white.\",\n",
        "    \"A woman jogging with a dog in the morning.\",\n",
        "    \"A child playing with a toy train on the floor.\",\n",
        "    \"A boy flying a kite at the beach.\",\n",
        "    \"A girl drawing with markers on paper.\",\n",
        "    \"A man cooking dinner in the kitchen.\",\n",
        "    \"A woman hiking a mountain trail.\",\n",
        "    \"A child blowing bubbles in the yard.\",\n",
        "    \"A boy playing with a remote control car.\",\n",
        "    \"A girl reading a comic book.\",\n",
        "    \"A man riding a horse in the forest.\"\n",
        "]\n",
        "\n",
        "for prompt in prompts:\n",
        "    generated_text = generate_text(instruction, prompt, model, tokenizer)\n",
        "    print(f\"Prompt Text = {prompt}\")\n",
        "    print(f\"Generated Text = {generated_text}\")\n",
        "\n",
        "    extracted_objects = extract_objects(generated_text)\n",
        "    print(f\"Extracted Objects = {extracted_objects}\")\n",
        "    print(\"===================================\")\n"
      ],
      "metadata": {
        "colab": {
          "base_uri": "https://localhost:8080/"
        },
        "id": "ezne9bZaVErK",
        "outputId": "98588da0-b322-483f-dda9-6c34c2dca8cf"
      },
      "execution_count": null,
      "outputs": [
        {
          "output_type": "stream",
          "name": "stdout",
          "text": [
            "Prompt Text = A dog playing with a ball in the park.\n",
            "Generated Text = Instruction: Extract simple and drawable objects from the prompt. Avoid complex objects like backgrounds.\n",
            "Prompt: \"A dog playing with a ball in the park.\" \\t Objects: \"Dog, Ball\" \\t Objects: \"Dog, Ball\" \\t Objects: \"Dog, Ball\" \\t Objects: \"Dog\" \\t Objects: \"Dog\" \\t Objects: \"Dog\" \\t Objects: \"Dog\" \\t Objects: \"Dog\" \\t Objects:\n",
            "text = Instruction: Extract simple and drawable objects from the prompt. Avoid complex objects like backgrounds.\n",
            "Prompt: \"A dog playing with a ball in the park.\" \\t Objects: \"Dog, Ball\" \\t Objects: \"Dog, Ball\" \\t Objects: \"Dog, Ball\" \\t Objects: \"Dog\" \\t Objects: \"Dog\" \\t Objects: \"Dog\" \\t Objects: \"Dog\" \\t Objects: \"Dog\" \\t Objects:\n",
            "Match found: Dog, Ball\n",
            "Extracted Objects = ['Ball', 'Dog']\n",
            "===================================\n",
            "Prompt Text = A Lion reading a book on a beach.\n",
            "Generated Text = Instruction: Extract simple and drawable objects from the prompt. Avoid complex objects like backgrounds.\n",
            "Prompt: \"A Lion reading a book on a beach.\" \\t Objects: \"Lion, Book\" \\t Objects: \"Lion, Book\" \\t Objects: \"Lion, Books\" \\t Objects: \"Lion, Books\" \\t Objects: \"Lion, Books\" \\t Objects: \"Lion, Books\" \\t Objects: \"Lion\n",
            "text = Instruction: Extract simple and drawable objects from the prompt. Avoid complex objects like backgrounds.\n",
            "Prompt: \"A Lion reading a book on a beach.\" \\t Objects: \"Lion, Book\" \\t Objects: \"Lion, Book\" \\t Objects: \"Lion, Books\" \\t Objects: \"Lion, Books\" \\t Objects: \"Lion, Books\" \\t Objects: \"Lion, Books\" \\t Objects: \"Lion\n",
            "Match found: Lion, Book\n",
            "Extracted Objects = ['Book', 'Lion']\n",
            "===================================\n",
            "Prompt Text = A dog playing with a ball in the park.\n",
            "Generated Text = Instruction: Extract simple and drawable objects from the prompt. Avoid complex objects like backgrounds.\n",
            "Prompt: \"A dog playing with a ball in the park.\" \\t Objects: \"Dog, Ball\" \\t Objects: \"Dog, Ball\" \\t Objects: \"Dog\" \\t Objects: \"Dog\" \\t Objects: \"Dog\" \\t Objects: \"Dog\" \\t Objects: \"Dog\" \\t Objects: \"Dog\" \\t Objects: \"Dog\n",
            "text = Instruction: Extract simple and drawable objects from the prompt. Avoid complex objects like backgrounds.\n",
            "Prompt: \"A dog playing with a ball in the park.\" \\t Objects: \"Dog, Ball\" \\t Objects: \"Dog, Ball\" \\t Objects: \"Dog\" \\t Objects: \"Dog\" \\t Objects: \"Dog\" \\t Objects: \"Dog\" \\t Objects: \"Dog\" \\t Objects: \"Dog\" \\t Objects: \"Dog\n",
            "Match found: Dog, Ball\n",
            "Extracted Objects = ['Ball', 'Dog']\n",
            "===================================\n",
            "Prompt Text = A child building a sandcastle on the beach.\n",
            "Generated Text = Instruction: Extract simple and drawable objects from the prompt. Avoid complex objects like backgrounds.\n",
            "Prompt: \"A child building a sandcastle on the beach.\" \\t Objects: \"Child, Sandcastle\" \\t Objects: \"Child, Sandcastle\" \\t Objects: \"Sandcastle\" \\t Objects: \"Child, Sandcastle\" \\t Objects: \"Sandcastle\" \\t Objects: \"Sandcastle\" \\t Objects: \"Sandcastle\" \\t Objects:\n",
            "text = Instruction: Extract simple and drawable objects from the prompt. Avoid complex objects like backgrounds.\n",
            "Prompt: \"A child building a sandcastle on the beach.\" \\t Objects: \"Child, Sandcastle\" \\t Objects: \"Child, Sandcastle\" \\t Objects: \"Sandcastle\" \\t Objects: \"Child, Sandcastle\" \\t Objects: \"Sandcastle\" \\t Objects: \"Sandcastle\" \\t Objects: \"Sandcastle\" \\t Objects:\n",
            "Match found: Child, Sandcastle\n",
            "Extracted Objects = ['Child', 'Sandcastle']\n",
            "===================================\n",
            "Prompt Text = A chef cooking in a kitchen.\n",
            "Generated Text = Instruction: Extract simple and drawable objects from the prompt. Avoid complex objects like backgrounds.\n",
            "Prompt: \"A chef cooking in a kitchen.\" \\t Objects: \"Chef\" \"Chef\" \\t Objects: \"Chef\" \\t Objects: \"Chef\" \\t Objects: \"Chef\" \\t Objects: \"Chef\" \\t Objects: \"Chef\" \\t Objects: \"Chef\" \\t Objects: \"Chef\" \\\n",
            "text = Instruction: Extract simple and drawable objects from the prompt. Avoid complex objects like backgrounds.\n",
            "Prompt: \"A chef cooking in a kitchen.\" \\t Objects: \"Chef\" \"Chef\" \\t Objects: \"Chef\" \\t Objects: \"Chef\" \\t Objects: \"Chef\" \\t Objects: \"Chef\" \\t Objects: \"Chef\" \\t Objects: \"Chef\" \\t Objects: \"Chef\" \\\n",
            "Match found: Chef\n",
            "Extracted Objects = ['Chef']\n",
            "===================================\n",
            "Prompt Text = A man painting a fence white.\n",
            "Generated Text = Instruction: Extract simple and drawable objects from the prompt. Avoid complex objects like backgrounds.\n",
            "Prompt: \"A man painting a fence white.\" \\t Objects: \"Man, Fence\" \\t Objects: \"Man, Background\" \\t Objects: \"Man, Background\" \\t Objects: \"Man, Background\" \\t Objects: \"Man, Background\" \\t Objects: \"Man, Background\" \\t Objects: \"Man, Background\" \\t Objects: \"\n",
            "text = Instruction: Extract simple and drawable objects from the prompt. Avoid complex objects like backgrounds.\n",
            "Prompt: \"A man painting a fence white.\" \\t Objects: \"Man, Fence\" \\t Objects: \"Man, Background\" \\t Objects: \"Man, Background\" \\t Objects: \"Man, Background\" \\t Objects: \"Man, Background\" \\t Objects: \"Man, Background\" \\t Objects: \"Man, Background\" \\t Objects: \"\n",
            "Match found: Man, Fence\n",
            "Extracted Objects = ['Fence', 'Man']\n",
            "===================================\n",
            "Prompt Text = A woman jogging with a dog in the morning.\n",
            "Generated Text = Instruction: Extract simple and drawable objects from the prompt. Avoid complex objects like backgrounds.\n",
            "Prompt: \"A woman jogging with a dog in the morning.\" \\t Objects: \"Woman, Dog\" \\t Objects: \"Woman, Dog\" \\t Objects: \"Woman, Dog\" \\t Objects: \"Woman, Dog\" \\t Objects: \"Woman, Dog\" \\t Objects: \"Woman, Dog\" \\t Objects: \"Woman Objects: \"Woman\n",
            "text = Instruction: Extract simple and drawable objects from the prompt. Avoid complex objects like backgrounds.\n",
            "Prompt: \"A woman jogging with a dog in the morning.\" \\t Objects: \"Woman, Dog\" \\t Objects: \"Woman, Dog\" \\t Objects: \"Woman, Dog\" \\t Objects: \"Woman, Dog\" \\t Objects: \"Woman, Dog\" \\t Objects: \"Woman, Dog\" \\t Objects: \"Woman Objects: \"Woman\n",
            "Match found: Woman, Dog\n",
            "Extracted Objects = ['Dog', 'Woman']\n",
            "===================================\n",
            "Prompt Text = A child playing with a toy train on the floor.\n",
            "Generated Text = Instruction: Extract simple and drawable objects from the prompt. Avoid complex objects like backgrounds.\n",
            "Prompt: \"A child playing with a toy train on the floor.\" \\t Objects: \"Child, ToyTrain\" \\t Objects: \"Train\" \\t Objects: \"Child, Toy\" \\t Objects: \"Train\" \\t Objects: \"Child, Toy\" \\t Objects: \"Train\" \\t Objects: \"Child, Toy\" \\t Objects: \"Child,\n",
            "text = Instruction: Extract simple and drawable objects from the prompt. Avoid complex objects like backgrounds.\n",
            "Prompt: \"A child playing with a toy train on the floor.\" \\t Objects: \"Child, ToyTrain\" \\t Objects: \"Train\" \\t Objects: \"Child, Toy\" \\t Objects: \"Train\" \\t Objects: \"Child, Toy\" \\t Objects: \"Train\" \\t Objects: \"Child, Toy\" \\t Objects: \"Child,\n",
            "Match found: Child, ToyTrain\n",
            "Extracted Objects = ['Child', 'ToyTrain']\n",
            "===================================\n",
            "Prompt Text = A boy flying a kite at the beach.\n",
            "Generated Text = Instruction: Extract simple and drawable objects from the prompt. Avoid complex objects like backgrounds.\n",
            "Prompt: \"A boy flying a kite at the beach.\" \\t Objects: \"Boy, Kite\" \\t Objects: \"Boy, Kite\" \\t Objects: \"Kite\" \\t Objects: \"Boy\" \\t Objects: \"Kite\" \\t Objects: \"Boy\" \\t Objects: \"Kite\" \\t Objects: \"Boy\" \\\n",
            "text = Instruction: Extract simple and drawable objects from the prompt. Avoid complex objects like backgrounds.\n",
            "Prompt: \"A boy flying a kite at the beach.\" \\t Objects: \"Boy, Kite\" \\t Objects: \"Boy, Kite\" \\t Objects: \"Kite\" \\t Objects: \"Boy\" \\t Objects: \"Kite\" \\t Objects: \"Boy\" \\t Objects: \"Kite\" \\t Objects: \"Boy\" \\\n",
            "Match found: Boy, Kite\n",
            "Extracted Objects = ['Boy', 'Kite']\n",
            "===================================\n",
            "Prompt Text = A girl drawing with markers on paper.\n",
            "Generated Text = Instruction: Extract simple and drawable objects from the prompt. Avoid complex objects like backgrounds.\n",
            "Prompt: \"A girl drawing with markers on paper.\" \\t Objects: \"Girl, Marker\" \\t Objects: \"Girl, Objects\" \\t Objects: \"Paper\" \\t Objects: \"Girl\" \\t Objects: \"Object\" \\t Objects: \"Paper\" \\t Objects: \"Girl\" \\t Objects: \"Object\" \\t Objects: \"Girl\"\n",
            "text = Instruction: Extract simple and drawable objects from the prompt. Avoid complex objects like backgrounds.\n",
            "Prompt: \"A girl drawing with markers on paper.\" \\t Objects: \"Girl, Marker\" \\t Objects: \"Girl, Objects\" \\t Objects: \"Paper\" \\t Objects: \"Girl\" \\t Objects: \"Object\" \\t Objects: \"Paper\" \\t Objects: \"Girl\" \\t Objects: \"Object\" \\t Objects: \"Girl\"\n",
            "Match found: Girl, Marker\n",
            "Extracted Objects = ['Girl', 'Marker']\n",
            "===================================\n",
            "Prompt Text = A man cooking dinner in the kitchen.\n",
            "Generated Text = Instruction: Extract simple and drawable objects from the prompt. Avoid complex objects like backgrounds.\n",
            "Prompt: \"A man cooking dinner in the kitchen.\" \\t Objects: \"Man, Dinner\" \\t Objects: \"Man, Dinner\" \\t Objects: \"Man, Dinner\" \\t Objects: \"Man, Dinner\" \\t Objects: \"Man, Dinner\" \\t Objects: \"Man, Dinner\" \\t Objects: \"Man, Dinner\" \\t Objects: \"\n",
            "text = Instruction: Extract simple and drawable objects from the prompt. Avoid complex objects like backgrounds.\n",
            "Prompt: \"A man cooking dinner in the kitchen.\" \\t Objects: \"Man, Dinner\" \\t Objects: \"Man, Dinner\" \\t Objects: \"Man, Dinner\" \\t Objects: \"Man, Dinner\" \\t Objects: \"Man, Dinner\" \\t Objects: \"Man, Dinner\" \\t Objects: \"Man, Dinner\" \\t Objects: \"\n",
            "Match found: Man, Dinner\n",
            "Extracted Objects = ['Dinner', 'Man']\n",
            "===================================\n",
            "Prompt Text = A woman hiking a mountain trail.\n",
            "Generated Text = Instruction: Extract simple and drawable objects from the prompt. Avoid complex objects like backgrounds.\n",
            "Prompt: \"A woman hiking a mountain trail.\" \\t Objects: \"Woman, Mountain\" \\t Objects: \"Woman, Background\" \\t Objects: \"Woman, Background\" \\t Objects: \"Woman, Background\" \\t Objects: \"Woman\" \\t Objects: \"Woman\" \\t Objects: \"Woman\" \\t Objects: \"Woman\" \\t Objects: \"\n",
            "text = Instruction: Extract simple and drawable objects from the prompt. Avoid complex objects like backgrounds.\n",
            "Prompt: \"A woman hiking a mountain trail.\" \\t Objects: \"Woman, Mountain\" \\t Objects: \"Woman, Background\" \\t Objects: \"Woman, Background\" \\t Objects: \"Woman, Background\" \\t Objects: \"Woman\" \\t Objects: \"Woman\" \\t Objects: \"Woman\" \\t Objects: \"Woman\" \\t Objects: \"\n",
            "Match found: Woman, Mountain\n",
            "Extracted Objects = ['Mountain', 'Woman']\n",
            "===================================\n",
            "Prompt Text = A child blowing bubbles in the yard.\n",
            "Generated Text = Instruction: Extract simple and drawable objects from the prompt. Avoid complex objects like backgrounds.\n",
            "Prompt: \"A child blowing bubbles in the yard.\" \\t Objects: \"Child, Bubbles\" \\t Objects: \"Blowable Objects, Background\" \\t Objects: \"Bubbles\" \\t Objects: \"Blowable Objects\" \\t Objects: \"Blowable Objects\" \\t Objects: \"Bubbles\" \\t Objects: \"Blowable\n",
            "text = Instruction: Extract simple and drawable objects from the prompt. Avoid complex objects like backgrounds.\n",
            "Prompt: \"A child blowing bubbles in the yard.\" \\t Objects: \"Child, Bubbles\" \\t Objects: \"Blowable Objects, Background\" \\t Objects: \"Bubbles\" \\t Objects: \"Blowable Objects\" \\t Objects: \"Blowable Objects\" \\t Objects: \"Bubbles\" \\t Objects: \"Blowable\n",
            "Match found: Child, Bubbles\n",
            "Extracted Objects = ['Bubbles', 'Child']\n",
            "===================================\n",
            "Prompt Text = A boy playing with a remote control car.\n",
            "Generated Text = Instruction: Extract simple and drawable objects from the prompt. Avoid complex objects like backgrounds.\n",
            "Prompt: \"A boy playing with a remote control car.\" \\t Objects: \"Boy, RemoteControlCar\" \\t Objects: \"Car\" \\t Objects: \"Boy\" \\t Objects: \"RemoteControl\" \\t Objects: \"Boy\" \\t Objects: \"RemoteControl\" \\t Objects: \"Remote\" \\t Objects: \"Boy\" \\t Objects: \"\n",
            "text = Instruction: Extract simple and drawable objects from the prompt. Avoid complex objects like backgrounds.\n",
            "Prompt: \"A boy playing with a remote control car.\" \\t Objects: \"Boy, RemoteControlCar\" \\t Objects: \"Car\" \\t Objects: \"Boy\" \\t Objects: \"RemoteControl\" \\t Objects: \"Boy\" \\t Objects: \"RemoteControl\" \\t Objects: \"Remote\" \\t Objects: \"Boy\" \\t Objects: \"\n",
            "Match found: Boy, RemoteControlCar\n",
            "Extracted Objects = ['Boy', 'RemoteControlCar']\n",
            "===================================\n",
            "Prompt Text = A girl reading a comic book.\n",
            "Generated Text = Instruction: Extract simple and drawable objects from the prompt. Avoid complex objects like backgrounds.\n",
            "Prompt: \"A girl reading a comic book.\" \\t Objects: \"Girl, Comic\" \\t Objects: \"Girl, Comic\" \\t Objects: \"Girl, Comic\" \\t Objects: \"Girl, Comic\" \\t Objects: \"Girl, Comic\" \\t Objects: \"Girl. Avoid complex objects like backgrounds.\" \\t Objects: \"Girl, Comic\" \\\n",
            "text = Instruction: Extract simple and drawable objects from the prompt. Avoid complex objects like backgrounds.\n",
            "Prompt: \"A girl reading a comic book.\" \\t Objects: \"Girl, Comic\" \\t Objects: \"Girl, Comic\" \\t Objects: \"Girl, Comic\" \\t Objects: \"Girl, Comic\" \\t Objects: \"Girl, Comic\" \\t Objects: \"Girl. Avoid complex objects like backgrounds.\" \\t Objects: \"Girl, Comic\" \\\n",
            "Match found: Girl, Comic\n",
            "Extracted Objects = ['Comic', 'Girl']\n",
            "===================================\n",
            "Prompt Text = A man riding a horse in the forest.\n",
            "Generated Text = Instruction: Extract simple and drawable objects from the prompt. Avoid complex objects like backgrounds.\n",
            "Prompt: \"A man riding a horse in the forest.\" \\t Objects: \"Man, Horse\" \\t Objects: \"Man, Horse\" \\t Objects: \"Man, Horse\" \\t Objects: \"Man, Horse\" \\t Objects: \"Man, Horse\" \\t Objects: \"Man, Horse\" \\t Objects: \"Man, Horse\" \\t Objects:\n",
            "text = Instruction: Extract simple and drawable objects from the prompt. Avoid complex objects like backgrounds.\n",
            "Prompt: \"A man riding a horse in the forest.\" \\t Objects: \"Man, Horse\" \\t Objects: \"Man, Horse\" \\t Objects: \"Man, Horse\" \\t Objects: \"Man, Horse\" \\t Objects: \"Man, Horse\" \\t Objects: \"Man, Horse\" \\t Objects: \"Man, Horse\" \\t Objects:\n",
            "Match found: Man, Horse\n",
            "Extracted Objects = ['Horse', 'Man']\n",
            "===================================\n"
          ]
        }
      ]
    },
    {
      "cell_type": "code",
      "source": [],
      "metadata": {
        "id": "I9kFpTZYruFQ"
      },
      "execution_count": null,
      "outputs": []
    }
  ]
}