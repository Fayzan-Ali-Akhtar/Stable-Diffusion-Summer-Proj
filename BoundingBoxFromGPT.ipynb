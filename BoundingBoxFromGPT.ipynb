{
  "cells": [
    {
      "cell_type": "code",
      "execution_count": 6,
      "metadata": {
        "colab": {
          "base_uri": "https://localhost:8080/",
          "height": 630
        },
        "id": "0vbpSjF3jnCu",
        "outputId": "2f3713d4-05a4-4ea9-9e40-7f59ccdaa4ad"
      },
      "outputs": [
        {
          "name": "stdout",
          "output_type": "stream",
          "text": [
            "Raw Output from API:\n",
            "{\n",
            "    \"bounding_boxes\": {\n",
            "        \"Blue Bird\": [50, 50, 150, 150],\n",
            "        \"Traffic Light\": [100, 0, 200, 300]\n",
            "    },\n",
            "    \"z_order\": [\"Traffic Light\", \"Blue Bird\"]\n",
            "}      \n",
            "Parsed Output:\n",
            "{'bounding_boxes': {'Blue Bird': [50, 50, 150, 150], 'Traffic Light': [100, 0, 200, 300]}, 'z_order': ['Traffic Light', 'Blue Bird']}\n"
          ]
        },
        {
          "data": {
            "image/png": "[encoded data removed]",
            "text/plain": [
              "<Figure size 640x480 with 1 Axes>"
            ]
          },
          "metadata": {},
          "output_type": "display_data"
        }
      ],
      "source": [
        "import openai\n",
        "import json\n",
        "import matplotlib.pyplot as plt\n",
        "import matplotlib.patches as patches\n",
        "\n",
        "\n",
        "def generate_bounding_boxes_and_order(objects, scene_description):\n",
        "    # Create the prompt\n",
        "    prompt = f\"\"\"\n",
        "    Given the following objects: {objects}\n",
        "    And the original scene described as: \"{scene_description}\"\n",
        "    Provide bounding box coordinates and z-order for each object, ensuring that their placement respects the semantic relationship described.\n",
        "    The output should be in the following JSON format:\n",
        "    {{\n",
        "        \"bounding_boxes\": {{\n",
        "            \"Object Name 1\": [x_min, y_min, x_max, y_max],\n",
        "            \"Object Name 2\": [x_min, y_min, x_max, y_max]\n",
        "        }},\n",
        "        \"z_order\": [\"Object Name 1\", \"Object Name 2\"]\n",
        "    }}\n",
        "    \"\"\"\n",
        "\n",
        "    # Call the OpenAI API with the prompt\n",
        "    response = openai.ChatCompletion.create(\n",
        "        model=\"gpt-3.5-turbo\",\n",
        "        messages=[\n",
        "            {\"role\": \"system\", \"content\": \"You are a helpful assistant.\"},\n",
        "            {\"role\": \"user\", \"content\": prompt}\n",
        "        ]\n",
        "    )\n",
        "\n",
        "    # Extract the output text\n",
        "    return response['choices'][0]['message']['content']\n",
        "\n",
        "# Example objects and scene description\n",
        "objects = [\"Blue Bird\", \"Traffic Light\"]\n",
        "scene_description = \"A blue bird on a traffic light that has a red signal.\"\n",
        "\n",
        "# Generate bounding boxes and z-order\n",
        "output = generate_bounding_boxes_and_order(objects, scene_description)\n",
        "\n",
        "# Display the raw output to check its format\n",
        "print(\"Raw Output from API:\")\n",
        "print(output)\n",
        "\n",
        "# Attempt to parse the output\n",
        "try:\n",
        "    output_dict = json.loads(output)\n",
        "    print(\"Parsed Output:\")\n",
        "    print(output_dict)\n",
        "\n",
        "    # Plotting the bounding boxes\n",
        "    fig, ax = plt.subplots()\n",
        "\n",
        "    # Assuming a basic scene size, e.g., 300x300 pixels\n",
        "    scene_width, scene_height = 300, 300\n",
        "    ax.set_xlim(0, scene_width)\n",
        "    ax.set_ylim(0, scene_height)\n",
        "    ax.invert_yaxis()  # Invert y-axis to match typical image coordinates\n",
        "\n",
        "    # Draw each bounding box\n",
        "    for obj in output_dict['bounding_boxes']:\n",
        "        bbox = output_dict['bounding_boxes'][obj]\n",
        "        rect = patches.Rectangle(\n",
        "            (bbox[0], bbox[1]),  # (x_min, y_min)\n",
        "            bbox[2] - bbox[0],  # width\n",
        "            bbox[3] - bbox[1],  # height\n",
        "            linewidth=2, edgecolor='r', facecolor='none'\n",
        "        )\n",
        "        ax.add_patch(rect)\n",
        "        plt.text(bbox[0], bbox[1] - 10, obj, color='red', fontsize=12)\n",
        "\n",
        "    plt.show()\n",
        "\n",
        "except json.JSONDecodeError as e:\n",
        "    print(\"Error decoding JSON:\", str(e))\n"
      ]
    }
  ],
  "metadata": {
    "accelerator": "GPU",
    "colab": {
      "gpuType": "T4",
      "provenance": []
    },
    "kernelspec": {
      "display_name": "Python 3",
      "name": "python3"
    },
    "language_info": {
      "name": "python"
    }
  },
  "nbformat": 4,
  "nbformat_minor": 0
}
