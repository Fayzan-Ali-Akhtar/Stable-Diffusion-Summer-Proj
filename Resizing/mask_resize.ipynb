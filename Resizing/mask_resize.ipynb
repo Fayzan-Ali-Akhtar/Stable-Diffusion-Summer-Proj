{
  "cells": [
    {
      "cell_type": "code",
      "execution_count": 1,
      "metadata": {
        "colab": {
          "base_uri": "https://localhost:8080/"
        },
        "id": "MHXlX5wC-Y2u",
        "outputId": "374519d8-f7c5-47d4-e9c9-da4d0500fcee"
      },
      "outputs": [
        {
          "name": "stdout",
          "output_type": "stream",
          "text": [
            "Mounted at /content/drive\n"
          ]
        }
      ],
      "source": [
        "from google.colab import drive\n",
        "drive.mount('/content/drive')\n"
      ]
    },
    {
      "cell_type": "code",
      "execution_count": 32,
      "metadata": {
        "colab": {
          "base_uri": "https://localhost:8080/",
          "height": 442
        },
        "id": "nBmrI30v7yPA",
        "outputId": "805f332c-4139-453b-f577-f0a84873ad66"
      },
      "outputs": [
        {
          "name": "stderr",
          "output_type": "stream",
          "text": [
            "<ipython-input-32-52584794ae50>:43: DeprecationWarning: ANTIALIAS is deprecated and will be removed in Pillow 10 (2023-07-01). Use LANCZOS or Resampling.LANCZOS instead.\n",
            "  resized_mask = mask.resize((new_width, new_height), Image.ANTIALIAS)\n"
          ]
        },
        {
          "data": {
            "image/png": "[encoded data removed]",
            "text/plain": [
              "<Figure size 640x480 with 1 Axes>"
            ]
          },
          "metadata": {},
          "output_type": "display_data"
        }
      ],
      "source": [
        "# from PIL import Image\n",
        "# import numpy as np\n",
        "# import matplotlib.pyplot as plt\n",
        "\n",
        "# # Load the mask image from Google Drive\n",
        "# mask_path = \"/content/drive/MyDrive/Colab Notebooks/car_mask.png\"  # Update this path\n",
        "# mask = Image.open(mask_path).convert(\"RGBA\")  # Ensure transparency is preserved\n",
        "\n",
        "# # Define the canvas size and create a black canvas\n",
        "# canvas_size = (900, 900)  # Example: 900x900 pixels, adjust as needed\n",
        "# canvas = Image.new(\"RGBA\", canvas_size, (0, 0, 0, 255))  # Black canvas\n",
        "\n",
        "# # Define the grid size\n",
        "# grid_size = (3, 3)  # 3x3 grid\n",
        "# cell_width = canvas_size[0] // grid_size[0]\n",
        "# cell_height = canvas_size[1] // grid_size[1]\n",
        "\n",
        "# # Function to calculate grid positions\n",
        "# def get_grid_coordinates(grid_positions):\n",
        "#     \"\"\"Calculate top-left and bottom-right coordinates of the mask based on grid positions.\"\"\"\n",
        "#     min_pos = min(grid_positions)\n",
        "#     max_pos = max(grid_positions)\n",
        "\n",
        "#     # Calculate top-left coordinates\n",
        "#     top_left_x = ((min_pos - 1) % grid_size[0]) * cell_width\n",
        "#     top_left_y = ((min_pos - 1) // grid_size[0]) * cell_height\n",
        "\n",
        "#     # Calculate bottom-right coordinates\n",
        "#     bottom_right_x = ((max_pos - 1) % grid_size[0] + 1) * cell_width\n",
        "#     bottom_right_y = ((max_pos - 1) // grid_size[0] + 1) * cell_height\n",
        "\n",
        "#     return top_left_x, top_left_y, bottom_right_x, bottom_right_y\n",
        "\n",
        "# # Example grid positions (1-based indexing)\n",
        "# grid_positions = [1,3]  # Modify as per your requirement\n",
        "\n",
        "# # Calculate the grid coordinates\n",
        "# top_left_x, top_left_y, bottom_right_x, bottom_right_y = get_grid_coordinates(grid_positions)\n",
        "\n",
        "# # Resize the mask to fit within the calculated grid area\n",
        "# new_width = bottom_right_x - top_left_x\n",
        "# new_height = bottom_right_y - top_left_y\n",
        "# resized_mask = mask.resize((new_width, new_height), Image.ANTIALIAS)\n",
        "\n",
        "# # Paste the mask onto the canvas at the calculated top-left position\n",
        "# canvas.paste(resized_mask, (top_left_x, top_left_y), resized_mask)\n",
        "\n",
        "# # Convert the canvas to a format that can be displayed using matplotlib\n",
        "# canvas_np = np.array(canvas)\n",
        "\n",
        "# # Display the result using matplotlib\n",
        "# plt.imshow(canvas_np)\n",
        "# plt.axis('off')  # Hide axes\n",
        "# plt.show()\n",
        "\n",
        "\n"
      ]
    },
    {
      "cell_type": "code",
      "execution_count": null,
      "metadata": {
        "id": "MjKH8MwxAgLf"
      },
      "outputs": [],
      "source": []
    },
    {
      "cell_type": "code",
      "execution_count": null,
      "metadata": {
        "id": "Y83QZVu6Adge"
      },
      "outputs": [],
      "source": []
    },
    {
      "cell_type": "code",
      "execution_count": null,
      "metadata": {},
      "outputs": [],
      "source": [
        "from PIL import Image\n",
        "import numpy as np\n",
        "import matplotlib.pyplot as plt\n",
        "from math import atan2, degrees\n",
        "\n",
        "# Load the mask image from Google Drive\n",
        "mask_path = \"/content/drive/MyDrive/Colab Notebooks/car_mask.png\"  # Update this path\n",
        "mask = Image.open(mask_path).convert(\"RGBA\")  # Ensure transparency is preserved\n",
        "\n",
        "# Define the canvas size and create a black canvas\n",
        "canvas_size = (900, 900)  # Example: 900x900 pixels, adjust as needed\n",
        "canvas = Image.new(\"RGBA\", canvas_size, (0, 0, 0, 255))  # Black canvas\n",
        "\n",
        "# Define the grid size\n",
        "grid_size = (3, 3)  # 3x3 grid\n",
        "cell_width = canvas_size[0] // grid_size[0]\n",
        "cell_height = canvas_size[1] // grid_size[1]\n",
        "\n",
        "\n",
        "# Function to calculate grid positions\n",
        "def get_grid_coordinates(grid_positions):\n",
        "    \"\"\"Calculate top-left and bottom-right coordinates of the mask based on grid positions.\"\"\"\n",
        "    min_pos = min(grid_positions)\n",
        "    max_pos = max(grid_positions)\n",
        "\n",
        "    # Calculate top-left coordinates\n",
        "    top_left_x = ((min_pos - 1) % grid_size[0]) * cell_width\n",
        "    top_left_y = ((min_pos - 1) // grid_size[0]) * cell_height\n",
        "\n",
        "    # Calculate bottom-right coordinates\n",
        "    bottom_right_x = ((max_pos - 1) % grid_size[0] + 1) * cell_width\n",
        "    bottom_right_y = ((max_pos - 1) // grid_size[0] + 1) * cell_height\n",
        "\n",
        "    return top_left_x, top_left_y, bottom_right_x, bottom_right_y\n",
        "\n",
        "# Function to calculate the rotation angle using trigonometry\n",
        "def calculate_rotation_angle(grid_positions):\n",
        "    \"\"\"Calculate the rotation angle based on the grid positions.\"\"\"\n",
        "    min_pos = min(grid_positions)\n",
        "    max_pos = max(grid_positions)\n",
        "\n",
        "    start_row = (min_pos - 1) // grid_size[0]\n",
        "    end_row = (max_pos - 1) // grid_size[0]\n",
        "    start_col = (min_pos - 1) % grid_size[0]\n",
        "    end_col = (max_pos - 1) % grid_size[0]\n",
        "\n",
        "    print(\"start_row\",start_row)\n",
        "    print(\"end_row\",end_row)\n",
        "    print(\"start_col\",start_col)\n",
        "    print(\"end_col\",end_col)\n",
        "\n",
        "    # Calculate the height and width of the grid span\n",
        "    height = abs((end_row - start_row + 1) * cell_height)\n",
        "    width = abs((end_col - start_col + 1) * cell_width)\n",
        "\n",
        "    # Debugging output\n",
        "    print(f\"Grid span - Height: {height}, Width: {width}\")\n",
        "\n",
        "    # Check if the mask is purely vertical or horizontal\n",
        "    if height == cell_height or width == cell_width:\n",
        "        return 0  # No rotation for purely vertical or horizontal spans\n",
        "\n",
        "    # Calculate the rotation angle in degrees\n",
        "    angle_rad = atan2(height, width)\n",
        "    angle_deg = degrees(angle_rad)\n",
        "    return angle_deg\n",
        "\n",
        "# Example grid positions (1-based indexing)\n",
        "grid_positions = [1,2,3]  # Modify as per your requirement\n",
        "\n",
        "# Calculate the grid coordinates\n",
        "top_left_x, top_left_y, bottom_right_x, bottom_right_y = get_grid_coordinates(grid_positions)\n",
        "\n",
        "# Validate the calculated dimensions\n",
        "new_width = max(1, bottom_right_x - top_left_x)\n",
        "new_height = max(1, bottom_right_y - top_left_y)\n",
        "\n",
        "# Resize the mask to fit within the calculated grid area\n",
        "resized_mask = mask.resize((new_width, new_height), Image.LANCZOS)\n",
        "\n",
        "# Calculate the rotation angle\n",
        "rotation_angle = calculate_rotation_angle(grid_positions)\n",
        "\n",
        "# Debugging output\n",
        "print(f\"Rotation angle: {rotation_angle}\")\n",
        "\n",
        "# Rotate the mask if needed\n",
        "if rotation_angle != 0:\n",
        "    rotated_mask = resized_mask.rotate(rotation_angle, expand=True)\n",
        "else:\n",
        "    rotated_mask = resized_mask\n",
        "\n",
        "# Calculate new top-left coordinates to center the rotated mask in the grid area\n",
        "new_top_left_x = top_left_x + (new_width - rotated_mask.width) // 2\n",
        "new_top_left_y = top_left_y + (new_height - rotated_mask.height) // 2\n",
        "\n",
        "# Paste the rotated mask onto the canvas at the calculated top-left position\n",
        "canvas.paste(rotated_mask, (new_top_left_x, new_top_left_y), rotated_mask)\n",
        "\n",
        "# Convert the canvas to a format that can be displayed using matplotlib\n",
        "canvas_np = np.array(canvas)\n",
        "\n",
        "# Display the result using matplotlib\n",
        "plt.imshow(canvas_np)\n",
        "plt.axis('off')  # Hide axes\n",
        "plt.show()\n"
      ]
    }
  ],
  "metadata": {
    "accelerator": "GPU",
    "colab": {
      "gpuType": "T4",
      "provenance": []
    },
    "kernelspec": {
      "display_name": "Python 3",
      "name": "python3"
    },
    "language_info": {
      "name": "python"
    }
  },
  "nbformat": 4,
  "nbformat_minor": 0
}
